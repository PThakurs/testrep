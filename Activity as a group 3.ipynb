{
 "cells": [
  {
   "cell_type": "code",
   "execution_count": 1,
   "id": "1882661a",
   "metadata": {},
   "outputs": [
    {
     "name": "stdout",
     "output_type": "stream",
     "text": [
      "3.9.13 (main, Aug 25 2022, 23:51:50) [MSC v.1916 64 bit (AMD64)]\n"
     ]
    }
   ],
   "source": [
    "import sys\n",
    "print(sys.version)"
   ]
  },
  {
   "cell_type": "code",
   "execution_count": 8,
   "id": "0bd7cea9",
   "metadata": {},
   "outputs": [
    {
     "name": "stdout",
     "output_type": "stream",
     "text": [
      "customer id=513"
     ]
    },
    {
     "data": {
      "text/plain": [
       "15"
      ]
     },
     "execution_count": 8,
     "metadata": {},
     "output_type": "execute_result"
    }
   ],
   "source": [
    "import sys\n",
    "id=\"513\"\n",
    "sys.stdout.write(\"customer id=513\")\n",
    "\n"
   ]
  },
  {
   "cell_type": "code",
   "execution_count": 5,
   "id": "9c5686c8",
   "metadata": {},
   "outputs": [
    {
     "name": "stdout",
     "output_type": "stream",
     "text": [
      "4\n"
     ]
    }
   ],
   "source": [
    "id=3\n",
    "id=id+1\n",
    "print(id)\n"
   ]
  },
  {
   "cell_type": "code",
   "execution_count": 6,
   "id": "e16508d5",
   "metadata": {},
   "outputs": [
    {
     "name": "stdout",
     "output_type": "stream",
     "text": [
      "5\n"
     ]
    }
   ],
   "source": [
    "id=id+1\n",
    "print(id)"
   ]
  },
  {
   "cell_type": "code",
   "execution_count": 9,
   "id": "a7db153f",
   "metadata": {},
   "outputs": [
    {
     "ename": "TypeError",
     "evalue": "can only concatenate str (not \"int\") to str",
     "output_type": "error",
     "traceback": [
      "\u001b[1;31m---------------------------------------------------------------------------\u001b[0m",
      "\u001b[1;31mTypeError\u001b[0m                                 Traceback (most recent call last)",
      "\u001b[1;32m~\\AppData\\Local\\Temp\\ipykernel_15996\\1865925738.py\u001b[0m in \u001b[0;36m<module>\u001b[1;34m\u001b[0m\n\u001b[1;32m----> 1\u001b[1;33m \u001b[0mid\u001b[0m\u001b[1;33m=\u001b[0m\u001b[0mid\u001b[0m\u001b[1;33m+\u001b[0m\u001b[1;36m1\u001b[0m\u001b[1;33m\u001b[0m\u001b[1;33m\u001b[0m\u001b[0m\n\u001b[0m",
      "\u001b[1;31mTypeError\u001b[0m: can only concatenate str (not \"int\") to str"
     ]
    }
   ],
   "source": [
    "id=id+1"
   ]
  },
  {
   "cell_type": "code",
   "execution_count": 10,
   "id": "97dbe443",
   "metadata": {},
   "outputs": [
    {
     "name": "stdout",
     "output_type": "stream",
     "text": [
      "514\n"
     ]
    }
   ],
   "source": [
    "new_id=int(id)+1\n",
    "print(new_id)\n"
   ]
  },
  {
   "cell_type": "code",
   "execution_count": 11,
   "id": "a6eb0c1a",
   "metadata": {},
   "outputs": [
    {
     "ename": "SyntaxError",
     "evalue": "unexpected character after line continuation character (2862995073.py, line 1)",
     "output_type": "error",
     "traceback": [
      "\u001b[1;36m  File \u001b[1;32m\"C:\\Users\\93781\\AppData\\Local\\Temp\\ipykernel_15996\\2862995073.py\"\u001b[1;36m, line \u001b[1;32m1\u001b[0m\n\u001b[1;33m    print(\"twinkle, twinkle, little star,\" \\n \\t \"How I wonder what you are!\" \\n \\t \\t \"Up above the world so high,\" \\n \\t \\t \\t \"Like a diamond in the sky.\")\u001b[0m\n\u001b[1;37m                                            ^\u001b[0m\n\u001b[1;31mSyntaxError\u001b[0m\u001b[1;31m:\u001b[0m unexpected character after line continuation character\n"
     ]
    }
   ],
   "source": [
    "print(\"twinkle, twinkle, little star,\" \\n \\t \"How I wonder what you are!\" \\n \\t \\t \"Up above the world so high,\" \\n \\t \\t \\t \"Like a diamond in the sky.\")"
   ]
  },
  {
   "cell_type": "code",
   "execution_count": 12,
   "id": "ededb04b",
   "metadata": {},
   "outputs": [
    {
     "name": "stdout",
     "output_type": "stream",
     "text": [
      "twinkle, twinkle, little star, \n",
      "\t How I wonder what you are! \n",
      "\t\t Up above the world so high, \n",
      "\t\t\t Like a diamond in the sky.\n"
     ]
    }
   ],
   "source": [
    "print(\"twinkle, twinkle, little star, \\n\\t How I wonder what you are! \\n\\t\\t Up above the world so high, \\n\\t\\t\\t Like a diamond in the sky.\")"
   ]
  },
  {
   "cell_type": "code",
   "execution_count": 13,
   "id": "8efc42cb",
   "metadata": {},
   "outputs": [
    {
     "name": "stdout",
     "output_type": "stream",
     "text": [
      "p\n"
     ]
    }
   ],
   "source": [
    "course=\"python for data science.\"\n",
    "course[0]\n",
    "print(course[0])"
   ]
  },
  {
   "cell_type": "code",
   "execution_count": 14,
   "id": "8fd026de",
   "metadata": {},
   "outputs": [
    {
     "name": "stdout",
     "output_type": "stream",
     "text": [
      "t\n"
     ]
    }
   ],
   "source": [
    "print(course[13])"
   ]
  },
  {
   "cell_type": "code",
   "execution_count": 15,
   "id": "77519cc2",
   "metadata": {},
   "outputs": [
    {
     "data": {
      "text/plain": [
       "24"
      ]
     },
     "execution_count": 15,
     "metadata": {},
     "output_type": "execute_result"
    }
   ],
   "source": [
    "len(course)"
   ]
  },
  {
   "cell_type": "code",
   "execution_count": 16,
   "id": "8689b1b7",
   "metadata": {},
   "outputs": [
    {
     "data": {
      "text/plain": [
       "'.'"
      ]
     },
     "execution_count": 16,
     "metadata": {},
     "output_type": "execute_result"
    }
   ],
   "source": [
    "course[-1]"
   ]
  },
  {
   "cell_type": "code",
   "execution_count": 17,
   "id": "580d73a5",
   "metadata": {},
   "outputs": [
    {
     "data": {
      "text/plain": [
       "'.'"
      ]
     },
     "execution_count": 17,
     "metadata": {},
     "output_type": "execute_result"
    }
   ],
   "source": [
    "course[-1]"
   ]
  },
  {
   "cell_type": "code",
   "execution_count": 18,
   "id": "00f79a63",
   "metadata": {},
   "outputs": [
    {
     "data": {
      "text/plain": [
       "'data'"
      ]
     },
     "execution_count": 18,
     "metadata": {},
     "output_type": "execute_result"
    }
   ],
   "source": [
    "course[11:15]"
   ]
  },
  {
   "cell_type": "code",
   "execution_count": 19,
   "id": "b2ab2dae",
   "metadata": {},
   "outputs": [
    {
     "data": {
      "text/plain": [
       "'dat'"
      ]
     },
     "execution_count": 19,
     "metadata": {},
     "output_type": "execute_result"
    }
   ],
   "source": [
    "course[11:14]"
   ]
  },
  {
   "cell_type": "code",
   "execution_count": 20,
   "id": "6b802cfd",
   "metadata": {},
   "outputs": [
    {
     "data": {
      "text/plain": [
       "'ph ra i'"
      ]
     },
     "execution_count": 20,
     "metadata": {},
     "output_type": "execute_result"
    }
   ],
   "source": [
    "course[0:21:3]"
   ]
  },
  {
   "cell_type": "code",
   "execution_count": 21,
   "id": "f728f0b3",
   "metadata": {},
   "outputs": [
    {
     "data": {
      "text/plain": [
       "'p'"
      ]
     },
     "execution_count": 21,
     "metadata": {},
     "output_type": "execute_result"
    }
   ],
   "source": [
    "course[0:3:21]"
   ]
  },
  {
   "cell_type": "code",
   "execution_count": 22,
   "id": "5f2950ea",
   "metadata": {},
   "outputs": [
    {
     "data": {
      "text/plain": [
       "'python for data science., AI & Development'"
      ]
     },
     "execution_count": 22,
     "metadata": {},
     "output_type": "execute_result"
    }
   ],
   "source": [
    "course + \", AI & Development\""
   ]
  },
  {
   "cell_type": "code",
   "execution_count": 23,
   "id": "9fbc5411",
   "metadata": {},
   "outputs": [
    {
     "data": {
      "text/plain": [
       "'python_for_data_science.'"
      ]
     },
     "execution_count": 23,
     "metadata": {},
     "output_type": "execute_result"
    }
   ],
   "source": [
    "course.replace(\" \", \"_\" )"
   ]
  },
  {
   "cell_type": "code",
   "execution_count": 24,
   "id": "9b9c8138",
   "metadata": {},
   "outputs": [
    {
     "data": {
      "text/plain": [
       "'PYTHON FOR DATA SCIENCE.'"
      ]
     },
     "execution_count": 24,
     "metadata": {},
     "output_type": "execute_result"
    }
   ],
   "source": [
    "course.upper()"
   ]
  },
  {
   "cell_type": "code",
   "execution_count": null,
   "id": "46e675b1",
   "metadata": {},
   "outputs": [],
   "source": []
  }
 ],
 "metadata": {
  "kernelspec": {
   "display_name": "Python 3 (ipykernel)",
   "language": "python",
   "name": "python3"
  },
  "language_info": {
   "codemirror_mode": {
    "name": "ipython",
    "version": 3
   },
   "file_extension": ".py",
   "mimetype": "text/x-python",
   "name": "python",
   "nbconvert_exporter": "python",
   "pygments_lexer": "ipython3",
   "version": "3.9.13"
  }
 },
 "nbformat": 4,
 "nbformat_minor": 5
}
